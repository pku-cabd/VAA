{
 "cells": [
  {
   "cell_type": "code",
   "execution_count": 1,
   "metadata": {},
   "outputs": [],
   "source": [
    "import time\n",
    "import pickle\n",
    "import argparse\n",
    "import torch\n",
    "\n",
    "from torch.utils.data import DataLoader\n",
    "from esim.data import NLIDataset\n",
    "from esim.model import ESIM\n",
    "from esim.utils import correct_predictions\n",
    "from sklearn import metrics"
   ]
  },
  {
   "cell_type": "code",
   "execution_count": 2,
   "metadata": {},
   "outputs": [],
   "source": [
    "import esim"
   ]
  },
  {
   "cell_type": "code",
   "execution_count": 3,
   "metadata": {},
   "outputs": [
    {
     "data": {
      "text/plain": [
       "['/home/rongz/anaconda3/lib/python3.6/site-packages/esim']"
      ]
     },
     "execution_count": 3,
     "metadata": {},
     "output_type": "execute_result"
    }
   ],
   "source": [
    "esim.__path__"
   ]
  },
  {
   "cell_type": "code",
   "execution_count": 4,
   "metadata": {},
   "outputs": [],
   "source": [
    "test_file='/home/rongz/ESIM/data/preprocessed/quora/test_data.pkl'\n",
    "pretrained_file='/home/rongz/ESIM/data/checkpoints/quora/best.pth.tar'\n",
    "batch_size=32"
   ]
  },
  {
   "cell_type": "code",
   "execution_count": 5,
   "metadata": {},
   "outputs": [],
   "source": [
    "device = torch.device(\"cuda:0\" if torch.cuda.is_available() else \"cpu\")"
   ]
  },
  {
   "cell_type": "code",
   "execution_count": 6,
   "metadata": {},
   "outputs": [
    {
     "name": "stdout",
     "output_type": "stream",
     "text": [
      "====================  Preparing for testing  ====================\n"
     ]
    }
   ],
   "source": [
    "print(20 * \"=\", \" Preparing for testing \", 20 * \"=\")\n",
    "\n",
    "checkpoint = torch.load(pretrained_file)\n",
    "\n",
    "# Retrieving model parameters from checkpoint.\n",
    "vocab_size = checkpoint[\"model\"][\"_word_embedding.weight\"].size(0)\n",
    "embedding_dim = checkpoint[\"model\"]['_word_embedding.weight'].size(1)\n",
    "hidden_size = checkpoint[\"model\"][\"_projection.0.weight\"].size(0)\n",
    "num_classes = checkpoint[\"model\"][\"_classification.4.weight\"].size(0)"
   ]
  },
  {
   "cell_type": "code",
   "execution_count": 7,
   "metadata": {},
   "outputs": [
    {
     "name": "stdout",
     "output_type": "stream",
     "text": [
      "\t* Loading test data...\n"
     ]
    }
   ],
   "source": [
    "print(\"\\t* Loading test data...\")\n",
    "with open(test_file, \"rb\") as pkl:\n",
    "    test_data = NLIDataset(pickle.load(pkl))\n",
    "\n",
    "test_loader = DataLoader(test_data, shuffle=False, batch_size=batch_size)"
   ]
  },
  {
   "cell_type": "code",
   "execution_count": 8,
   "metadata": {},
   "outputs": [
    {
     "name": "stdout",
     "output_type": "stream",
     "text": [
      "\t* Building model...\n"
     ]
    },
    {
     "data": {
      "text/plain": [
       "IncompatibleKeys(missing_keys=[], unexpected_keys=[])"
      ]
     },
     "execution_count": 8,
     "metadata": {},
     "output_type": "execute_result"
    }
   ],
   "source": [
    "print(\"\\t* Building model...\")\n",
    "model = ESIM(vocab_size,\n",
    "             embedding_dim,\n",
    "             hidden_size,\n",
    "             num_classes=num_classes,\n",
    "             device=device).to(device)\n",
    "\n",
    "model.load_state_dict(checkpoint[\"model\"])"
   ]
  },
  {
   "cell_type": "code",
   "execution_count": 9,
   "metadata": {},
   "outputs": [
    {
     "data": {
      "text/plain": [
       "ESIM(\n",
       "  (_word_embedding): Embedding(128447, 300, padding_idx=0)\n",
       "  (_rnn_dropout): RNNDropout(p=0.5)\n",
       "  (_encoding): Seq2SeqEncoder(\n",
       "    (_encoder): LSTM(300, 300, batch_first=True, bidirectional=True)\n",
       "  )\n",
       "  (_attention): SoftmaxAttention()\n",
       "  (_projection): Sequential(\n",
       "    (0): Linear(in_features=2400, out_features=300, bias=True)\n",
       "    (1): ReLU()\n",
       "  )\n",
       "  (_composition): Seq2SeqEncoder(\n",
       "    (_encoder): LSTM(300, 300, batch_first=True, bidirectional=True)\n",
       "  )\n",
       "  (_classification): Sequential(\n",
       "    (0): Dropout(p=0.5)\n",
       "    (1): Linear(in_features=2400, out_features=300, bias=True)\n",
       "    (2): Tanh()\n",
       "    (3): Dropout(p=0.5)\n",
       "    (4): Linear(in_features=300, out_features=2, bias=True)\n",
       "  )\n",
       ")"
      ]
     },
     "execution_count": 9,
     "metadata": {},
     "output_type": "execute_result"
    }
   ],
   "source": [
    "model"
   ]
  },
  {
   "cell_type": "code",
   "execution_count": 10,
   "metadata": {},
   "outputs": [
    {
     "name": "stdout",
     "output_type": "stream",
     "text": [
      "====================  Testing ESIM model on device: cuda:0  ====================\n"
     ]
    },
    {
     "name": "stderr",
     "output_type": "stream",
     "text": [
      "/home/rongz/anaconda3/lib/python3.6/site-packages/esim/utils.py:41: UserWarning: To copy construct from a tensor, it is recommended to use sourceTensor.clone().detach() or sourceTensor.clone().detach().requires_grad_(True), rather than tensor.new_tensor(sourceTensor).\n",
      "  sequences_lengths.new_tensor(torch.arange(0, len(sequences_lengths)))\n"
     ]
    },
    {
     "ename": "ValueError",
     "evalue": "too many values to unpack (expected 2)",
     "output_type": "error",
     "traceback": [
      "\u001b[0;31m---------------------------------------------------------------------------\u001b[0m",
      "\u001b[0;31mValueError\u001b[0m                                Traceback (most recent call last)",
      "\u001b[0;32m<ipython-input-10-a99f6c830cc1>\u001b[0m in \u001b[0;36m<module>\u001b[0;34m()\u001b[0m\n\u001b[1;32m     24\u001b[0m         \u001b[0mall_labels\u001b[0m\u001b[0;34m.\u001b[0m\u001b[0mextend\u001b[0m\u001b[0;34m(\u001b[0m\u001b[0mlabels\u001b[0m\u001b[0;34m.\u001b[0m\u001b[0mtolist\u001b[0m\u001b[0;34m(\u001b[0m\u001b[0;34m)\u001b[0m\u001b[0;34m)\u001b[0m\u001b[0;34m\u001b[0m\u001b[0;34m\u001b[0m\u001b[0m\n\u001b[1;32m     25\u001b[0m         \u001b[0mlabels\u001b[0m \u001b[0;34m=\u001b[0m \u001b[0mlabels\u001b[0m\u001b[0;34m.\u001b[0m\u001b[0mto\u001b[0m\u001b[0;34m(\u001b[0m\u001b[0mdevice\u001b[0m\u001b[0;34m)\u001b[0m\u001b[0;34m\u001b[0m\u001b[0;34m\u001b[0m\u001b[0m\n\u001b[0;32m---> 26\u001b[0;31m         \u001b[0m_\u001b[0m\u001b[0;34m,\u001b[0m \u001b[0mprobs\u001b[0m\u001b[0;34m=\u001b[0m\u001b[0mmodel\u001b[0m\u001b[0;34m(\u001b[0m\u001b[0mpremises\u001b[0m\u001b[0;34m,\u001b[0m\u001b[0mpremises_lengths\u001b[0m\u001b[0;34m,\u001b[0m\u001b[0mhypotheses\u001b[0m\u001b[0;34m,\u001b[0m\u001b[0mhypotheses_lengths\u001b[0m\u001b[0;34m)\u001b[0m\u001b[0;34m\u001b[0m\u001b[0;34m\u001b[0m\u001b[0m\n\u001b[0m\u001b[1;32m     27\u001b[0m         \u001b[0;32mbreak\u001b[0m\u001b[0;34m\u001b[0m\u001b[0;34m\u001b[0m\u001b[0m\n\u001b[1;32m     28\u001b[0m         _, probs, prem_hyp_attn, hyp_prem_attn = model(premises,\n",
      "\u001b[0;31mValueError\u001b[0m: too many values to unpack (expected 2)"
     ]
    }
   ],
   "source": [
    "print(20 * \"=\", \" Testing ESIM model on device: {} \".format(device), 20 * \"=\")\n",
    "# Switch the model to eval mode.\n",
    "model.eval()\n",
    "device = model.device\n",
    "\n",
    "time_start = time.time()\n",
    "batch_time = 0.0\n",
    "accuracy = 0.0\n",
    "\n",
    "all_labels = []\n",
    "all_out_classes = []\n",
    "\n",
    "# Deactivate autograd for evaluation.\n",
    "with torch.no_grad():\n",
    "    for batch in test_loader:\n",
    "        batch_start = time.time()\n",
    "\n",
    "        # Move input and output data to the GPU if one is used.\n",
    "        premises = batch[\"premise\"].to(device)\n",
    "        premises_lengths = batch[\"premise_length\"].to(device)\n",
    "        hypotheses = batch[\"hypothesis\"].to(device)\n",
    "        hypotheses_lengths = batch[\"hypothesis_length\"].to(device)\n",
    "        labels = batch[\"label\"]\n",
    "        all_labels.extend(labels.tolist())\n",
    "        labels = labels.to(device)\n",
    "        _, probs=model(premises,premises_lengths,hypotheses,hypotheses_lengths)\n",
    "        break\n",
    "        _, probs, prem_hyp_attn, hyp_prem_attn = model(premises,\n",
    "                         premises_lengths,\n",
    "                         hypotheses,\n",
    "                         hypotheses_lengths)\n",
    "        _, out_classes = probs.max(dim=1)\n",
    "        all_out_classes.extend(out_classes.tolist())\n",
    "\n",
    "        accuracy += correct_predictions(probs, labels)\n",
    "        batch_time += time.time() - batch_start\n",
    "        break\n",
    "# batch_time /= len(test_loader)\n",
    "# total_time = time.time() - time_start\n",
    "# accuracy /= (len(test_loader.dataset))\n",
    "# accuracy_score = metrics.accuracy_score(all_labels, all_out_classes)\n",
    "# precision_score = metrics.precision_score(all_labels, all_out_classes)\n",
    "# recall_score = metrics.recall_score(all_labels, all_out_classes)\n",
    "# f1_score = metrics.f1_score(all_labels, all_out_classes)"
   ]
  },
  {
   "cell_type": "code",
   "execution_count": null,
   "metadata": {},
   "outputs": [],
   "source": []
  }
 ],
 "metadata": {
  "kernelspec": {
   "display_name": "Python 3",
   "language": "python",
   "name": "python3"
  },
  "language_info": {
   "codemirror_mode": {
    "name": "ipython",
    "version": 3
   },
   "file_extension": ".py",
   "mimetype": "text/x-python",
   "name": "python",
   "nbconvert_exporter": "python",
   "pygments_lexer": "ipython3",
   "version": "3.6.8"
  }
 },
 "nbformat": 4,
 "nbformat_minor": 2
}
